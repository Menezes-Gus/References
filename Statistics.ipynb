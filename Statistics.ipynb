{
 "cells": [
  {
   "cell_type": "markdown",
   "metadata": {},
   "source": [
    "# Population and Sample"
   ]
  },
  {
   "cell_type": "markdown",
   "metadata": {},
   "source": [
    "Statistics are calculations that represent characteristics of a population based on data from a sample. In short, they're are aproximations of real parameters.\n",
    "\n",
    "| Population | Sample |\n",
    "| ---------- | ------ |\n",
    "| All Items of Interest | Subset of Population |\n",
    "| N | n |\n",
    "| Parameters | Statistics |"
   ]
  },
  {
   "cell_type": "markdown",
   "metadata": {},
   "source": [
    "A sample must be random and representative in order for the statistics taken out of them to be precise."
   ]
  },
  {
   "cell_type": "markdown",
   "metadata": {},
   "source": [
    "# Types of Data and Levels of Measurement"
   ]
  },
  {
   "cell_type": "markdown",
   "metadata": {},
   "source": [
    "Types: <br>\n",
    "- Categorical : represent categories. Ex.: the color of a car (red, blue, black, white)\n",
    "- Numerical : represent numbers that can be discrete or continuous\n",
    "    - Discrete : its basically integer numbers. This way, they have finite distances between them. Ex.: Age.\n",
    "    - Continuous : its like real numbers, hence, the distance between them is infinite. Ex.: Height, Weight."
   ]
  },
  {
   "cell_type": "markdown",
   "metadata": {},
   "source": [
    "Levels:\n",
    "- Qualitative: can be nominal or ordinal and usually are not countable.\n",
    "    - Nominal: data that cannot be ordered, hence, there can not be a \"better\" or \"worse\" state. Ex.: Seasons (Summer, Winter, Spring, Autumn).\n",
    "    - Ordinal: data  that can be ordered. Ex.: grades (A, B, C, D, F).\n",
    "- Quantitative: can be an interval or a ratio and is numbers-based and countable\n",
    "    - Ratio: has a true 0, and represent ratios of things, which can also be 1/1. Ex.: number of cars, distances, time\n",
    "    - Interval: doesnt have a true 0, usually artificial variables, like celsius and fahrenheit. Hence, cannot be represented as ratios of things. (very confusing)"
   ]
  },
  {
   "cell_type": "markdown",
   "metadata": {},
   "source": []
  }
 ],
 "metadata": {
  "kernelspec": {
   "display_name": "Python 3",
   "language": "python",
   "name": "python3"
  },
  "language_info": {
   "name": "python",
   "version": "3.11.4"
  }
 },
 "nbformat": 4,
 "nbformat_minor": 2
}
